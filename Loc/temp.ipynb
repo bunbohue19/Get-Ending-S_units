{
 "cells": [
  {
   "cell_type": "code",
   "execution_count": 42,
   "metadata": {},
   "outputs": [],
   "source": [
    "import json\n",
    "import javalang\n",
    "from javalang import tree\n",
    "\n",
    "data = open(\"./dataset/full_set.json\", \"r\")\n",
    "data_dict = json.load(data)"
   ]
  },
  {
   "cell_type": "code",
   "execution_count": 43,
   "metadata": {},
   "outputs": [
    {
     "data": {
      "text/plain": [
       "{'source': 'private E extract() {\\n    Node<E> first = head.next;\\n    head = first;\\n    E x = first.item;\\n    first.item = null;\\n    return x;\\n}',\n",
       " 'target': 'Remove a node from head of queue,.\\nReturn the node',\n",
       " 'len': '57',\n",
       " 'repo': 'dynamic-tp'}"
      ]
     },
     "execution_count": 43,
     "metadata": {},
     "output_type": "execute_result"
    }
   ],
   "source": [
    "data_dict[25]"
   ]
  },
  {
   "cell_type": "code",
   "execution_count": 44,
   "metadata": {},
   "outputs": [],
   "source": [
    "def view_source(src):\n",
    "    newSrc = src.split(\"\\n\")\n",
    "    for s_unit in newSrc:\n",
    "        print(s_unit)"
   ]
  },
  {
   "cell_type": "code",
   "execution_count": 45,
   "metadata": {},
   "outputs": [
    {
     "name": "stdout",
     "output_type": "stream",
     "text": [
      "void\n"
     ]
    }
   ],
   "source": [
    "# Add fake class in order to avoid error :D\n",
    "code_snippet = 'class A { \\n' + data_dict[1]['source'] + '\\n}'\n",
    "\n",
    "tree = javalang.parse.parse(code_snippet)\n",
    "for _, node in tree.filter(javalang.tree.MethodDeclaration):\n",
    "    if node.return_type == None:\n",
    "        print('void')\n",
    "    else:\n",
    "        print(node.return_type.name)"
   ]
  },
  {
   "cell_type": "code",
   "execution_count": 46,
   "metadata": {},
   "outputs": [
    {
     "name": "stdout",
     "output_type": "stream",
     "text": [
      "class A { \n",
      "public void validateDistributedTable() throws SQLException {\n",
      "    String schemaName = userProps.get(DbzConnectorConfig.PG_SCHEMA_NAME);\n",
      "    String tableName = userProps.get(DbzConnectorConfig.TABLE_NAME);\n",
      "    try (var stmt = jdbcConnection.prepareStatement(ValidatorUtils.getSql(\"citus.distributed_table\"))) {\n",
      "        stmt.setString(1, schemaName + \".\" + tableName);\n",
      "        var res = stmt.executeQuery();\n",
      "        while (res.next()) {\n",
      "            var ret = res.getString(1);\n",
      "            if (!ret.equalsIgnoreCase(\"distributed\")) {\n",
      "                throw ValidatorUtils.invalidArgument(\"Citus table is not a distributed table\");\n",
      "            }\n",
      "        }\n",
      "    }\n",
      "}\n",
      "}\n"
     ]
    }
   ],
   "source": [
    "view_source(code_snippet)"
   ]
  },
  {
   "cell_type": "code",
   "execution_count": 47,
   "metadata": {},
   "outputs": [
    {
     "name": "stdout",
     "output_type": "stream",
     "text": [
      "Token: 'class', position: Position(line=1, column=1), is a <class 'javalang.tokenizer.Keyword'>\n",
      "Token: 'A', position: Position(line=1, column=7), is a <class 'javalang.tokenizer.Identifier'>\n",
      "Token: '{', position: Position(line=1, column=9), is a <class 'javalang.tokenizer.Separator'>\n",
      "Token: 'public', position: Position(line=2, column=1), is a <class 'javalang.tokenizer.Modifier'>\n",
      "Token: 'void', position: Position(line=2, column=8), is a <class 'javalang.tokenizer.Keyword'>\n",
      "Token: 'validateDistributedTable', position: Position(line=2, column=13), is a <class 'javalang.tokenizer.Identifier'>\n",
      "Token: '(', position: Position(line=2, column=37), is a <class 'javalang.tokenizer.Separator'>\n",
      "Token: ')', position: Position(line=2, column=38), is a <class 'javalang.tokenizer.Separator'>\n",
      "Token: 'throws', position: Position(line=2, column=40), is a <class 'javalang.tokenizer.Keyword'>\n",
      "Token: 'SQLException', position: Position(line=2, column=47), is a <class 'javalang.tokenizer.Identifier'>\n",
      "Token: '{', position: Position(line=2, column=60), is a <class 'javalang.tokenizer.Separator'>\n",
      "Token: 'String', position: Position(line=3, column=5), is a <class 'javalang.tokenizer.Identifier'>\n",
      "Token: 'schemaName', position: Position(line=3, column=12), is a <class 'javalang.tokenizer.Identifier'>\n",
      "Token: '=', position: Position(line=3, column=23), is a <class 'javalang.tokenizer.Operator'>\n",
      "Token: 'userProps', position: Position(line=3, column=25), is a <class 'javalang.tokenizer.Identifier'>\n",
      "Token: '.', position: Position(line=3, column=34), is a <class 'javalang.tokenizer.Separator'>\n",
      "Token: 'get', position: Position(line=3, column=35), is a <class 'javalang.tokenizer.Identifier'>\n",
      "Token: '(', position: Position(line=3, column=38), is a <class 'javalang.tokenizer.Separator'>\n",
      "Token: 'DbzConnectorConfig', position: Position(line=3, column=39), is a <class 'javalang.tokenizer.Identifier'>\n",
      "Token: '.', position: Position(line=3, column=57), is a <class 'javalang.tokenizer.Separator'>\n",
      "Token: 'PG_SCHEMA_NAME', position: Position(line=3, column=58), is a <class 'javalang.tokenizer.Identifier'>\n",
      "Token: ')', position: Position(line=3, column=72), is a <class 'javalang.tokenizer.Separator'>\n",
      "Token: ';', position: Position(line=3, column=73), is a <class 'javalang.tokenizer.Separator'>\n",
      "Token: 'String', position: Position(line=4, column=5), is a <class 'javalang.tokenizer.Identifier'>\n",
      "Token: 'tableName', position: Position(line=4, column=12), is a <class 'javalang.tokenizer.Identifier'>\n",
      "Token: '=', position: Position(line=4, column=22), is a <class 'javalang.tokenizer.Operator'>\n",
      "Token: 'userProps', position: Position(line=4, column=24), is a <class 'javalang.tokenizer.Identifier'>\n",
      "Token: '.', position: Position(line=4, column=33), is a <class 'javalang.tokenizer.Separator'>\n",
      "Token: 'get', position: Position(line=4, column=34), is a <class 'javalang.tokenizer.Identifier'>\n",
      "Token: '(', position: Position(line=4, column=37), is a <class 'javalang.tokenizer.Separator'>\n",
      "Token: 'DbzConnectorConfig', position: Position(line=4, column=38), is a <class 'javalang.tokenizer.Identifier'>\n",
      "Token: '.', position: Position(line=4, column=56), is a <class 'javalang.tokenizer.Separator'>\n",
      "Token: 'TABLE_NAME', position: Position(line=4, column=57), is a <class 'javalang.tokenizer.Identifier'>\n",
      "Token: ')', position: Position(line=4, column=67), is a <class 'javalang.tokenizer.Separator'>\n",
      "Token: ';', position: Position(line=4, column=68), is a <class 'javalang.tokenizer.Separator'>\n",
      "Token: 'try', position: Position(line=5, column=5), is a <class 'javalang.tokenizer.Keyword'>\n",
      "Token: '(', position: Position(line=5, column=9), is a <class 'javalang.tokenizer.Separator'>\n",
      "Token: 'var', position: Position(line=5, column=10), is a <class 'javalang.tokenizer.Identifier'>\n",
      "Token: 'stmt', position: Position(line=5, column=14), is a <class 'javalang.tokenizer.Identifier'>\n",
      "Token: '=', position: Position(line=5, column=19), is a <class 'javalang.tokenizer.Operator'>\n",
      "Token: 'jdbcConnection', position: Position(line=5, column=21), is a <class 'javalang.tokenizer.Identifier'>\n",
      "Token: '.', position: Position(line=5, column=35), is a <class 'javalang.tokenizer.Separator'>\n",
      "Token: 'prepareStatement', position: Position(line=5, column=36), is a <class 'javalang.tokenizer.Identifier'>\n",
      "Token: '(', position: Position(line=5, column=52), is a <class 'javalang.tokenizer.Separator'>\n",
      "Token: 'ValidatorUtils', position: Position(line=5, column=53), is a <class 'javalang.tokenizer.Identifier'>\n",
      "Token: '.', position: Position(line=5, column=67), is a <class 'javalang.tokenizer.Separator'>\n",
      "Token: 'getSql', position: Position(line=5, column=68), is a <class 'javalang.tokenizer.Identifier'>\n",
      "Token: '(', position: Position(line=5, column=74), is a <class 'javalang.tokenizer.Separator'>\n",
      "Token: '\"citus.distributed_table\"', position: Position(line=5, column=75), is a <class 'javalang.tokenizer.String'>\n",
      "Token: ')', position: Position(line=5, column=100), is a <class 'javalang.tokenizer.Separator'>\n",
      "Token: ')', position: Position(line=5, column=101), is a <class 'javalang.tokenizer.Separator'>\n",
      "Token: ')', position: Position(line=5, column=102), is a <class 'javalang.tokenizer.Separator'>\n",
      "Token: '{', position: Position(line=5, column=104), is a <class 'javalang.tokenizer.Separator'>\n",
      "Token: 'stmt', position: Position(line=6, column=9), is a <class 'javalang.tokenizer.Identifier'>\n",
      "Token: '.', position: Position(line=6, column=13), is a <class 'javalang.tokenizer.Separator'>\n",
      "Token: 'setString', position: Position(line=6, column=14), is a <class 'javalang.tokenizer.Identifier'>\n",
      "Token: '(', position: Position(line=6, column=23), is a <class 'javalang.tokenizer.Separator'>\n",
      "Token: '1', position: Position(line=6, column=24), is a <class 'javalang.tokenizer.DecimalInteger'>\n",
      "Token: ',', position: Position(line=6, column=25), is a <class 'javalang.tokenizer.Separator'>\n",
      "Token: 'schemaName', position: Position(line=6, column=27), is a <class 'javalang.tokenizer.Identifier'>\n",
      "Token: '+', position: Position(line=6, column=38), is a <class 'javalang.tokenizer.Operator'>\n",
      "Token: '\".\"', position: Position(line=6, column=40), is a <class 'javalang.tokenizer.String'>\n",
      "Token: '+', position: Position(line=6, column=44), is a <class 'javalang.tokenizer.Operator'>\n",
      "Token: 'tableName', position: Position(line=6, column=46), is a <class 'javalang.tokenizer.Identifier'>\n",
      "Token: ')', position: Position(line=6, column=55), is a <class 'javalang.tokenizer.Separator'>\n",
      "Token: ';', position: Position(line=6, column=56), is a <class 'javalang.tokenizer.Separator'>\n",
      "Token: 'var', position: Position(line=7, column=9), is a <class 'javalang.tokenizer.Identifier'>\n",
      "Token: 'res', position: Position(line=7, column=13), is a <class 'javalang.tokenizer.Identifier'>\n",
      "Token: '=', position: Position(line=7, column=17), is a <class 'javalang.tokenizer.Operator'>\n",
      "Token: 'stmt', position: Position(line=7, column=19), is a <class 'javalang.tokenizer.Identifier'>\n",
      "Token: '.', position: Position(line=7, column=23), is a <class 'javalang.tokenizer.Separator'>\n",
      "Token: 'executeQuery', position: Position(line=7, column=24), is a <class 'javalang.tokenizer.Identifier'>\n",
      "Token: '(', position: Position(line=7, column=36), is a <class 'javalang.tokenizer.Separator'>\n",
      "Token: ')', position: Position(line=7, column=37), is a <class 'javalang.tokenizer.Separator'>\n",
      "Token: ';', position: Position(line=7, column=38), is a <class 'javalang.tokenizer.Separator'>\n",
      "Token: 'while', position: Position(line=8, column=9), is a <class 'javalang.tokenizer.Keyword'>\n",
      "Token: '(', position: Position(line=8, column=15), is a <class 'javalang.tokenizer.Separator'>\n",
      "Token: 'res', position: Position(line=8, column=16), is a <class 'javalang.tokenizer.Identifier'>\n",
      "Token: '.', position: Position(line=8, column=19), is a <class 'javalang.tokenizer.Separator'>\n",
      "Token: 'next', position: Position(line=8, column=20), is a <class 'javalang.tokenizer.Identifier'>\n",
      "Token: '(', position: Position(line=8, column=24), is a <class 'javalang.tokenizer.Separator'>\n",
      "Token: ')', position: Position(line=8, column=25), is a <class 'javalang.tokenizer.Separator'>\n",
      "Token: ')', position: Position(line=8, column=26), is a <class 'javalang.tokenizer.Separator'>\n",
      "Token: '{', position: Position(line=8, column=28), is a <class 'javalang.tokenizer.Separator'>\n",
      "Token: 'var', position: Position(line=9, column=13), is a <class 'javalang.tokenizer.Identifier'>\n",
      "Token: 'ret', position: Position(line=9, column=17), is a <class 'javalang.tokenizer.Identifier'>\n",
      "Token: '=', position: Position(line=9, column=21), is a <class 'javalang.tokenizer.Operator'>\n",
      "Token: 'res', position: Position(line=9, column=23), is a <class 'javalang.tokenizer.Identifier'>\n",
      "Token: '.', position: Position(line=9, column=26), is a <class 'javalang.tokenizer.Separator'>\n",
      "Token: 'getString', position: Position(line=9, column=27), is a <class 'javalang.tokenizer.Identifier'>\n",
      "Token: '(', position: Position(line=9, column=36), is a <class 'javalang.tokenizer.Separator'>\n",
      "Token: '1', position: Position(line=9, column=37), is a <class 'javalang.tokenizer.DecimalInteger'>\n",
      "Token: ')', position: Position(line=9, column=38), is a <class 'javalang.tokenizer.Separator'>\n",
      "Token: ';', position: Position(line=9, column=39), is a <class 'javalang.tokenizer.Separator'>\n",
      "Token: 'if', position: Position(line=10, column=13), is a <class 'javalang.tokenizer.Keyword'>\n",
      "Token: '(', position: Position(line=10, column=16), is a <class 'javalang.tokenizer.Separator'>\n",
      "Token: '!', position: Position(line=10, column=17), is a <class 'javalang.tokenizer.Operator'>\n",
      "Token: 'ret', position: Position(line=10, column=18), is a <class 'javalang.tokenizer.Identifier'>\n",
      "Token: '.', position: Position(line=10, column=21), is a <class 'javalang.tokenizer.Separator'>\n",
      "Token: 'equalsIgnoreCase', position: Position(line=10, column=22), is a <class 'javalang.tokenizer.Identifier'>\n",
      "Token: '(', position: Position(line=10, column=38), is a <class 'javalang.tokenizer.Separator'>\n",
      "Token: '\"distributed\"', position: Position(line=10, column=39), is a <class 'javalang.tokenizer.String'>\n",
      "Token: ')', position: Position(line=10, column=52), is a <class 'javalang.tokenizer.Separator'>\n",
      "Token: ')', position: Position(line=10, column=53), is a <class 'javalang.tokenizer.Separator'>\n",
      "Token: '{', position: Position(line=10, column=55), is a <class 'javalang.tokenizer.Separator'>\n",
      "Token: 'throw', position: Position(line=11, column=17), is a <class 'javalang.tokenizer.Keyword'>\n",
      "Token: 'ValidatorUtils', position: Position(line=11, column=23), is a <class 'javalang.tokenizer.Identifier'>\n",
      "Token: '.', position: Position(line=11, column=37), is a <class 'javalang.tokenizer.Separator'>\n",
      "Token: 'invalidArgument', position: Position(line=11, column=38), is a <class 'javalang.tokenizer.Identifier'>\n",
      "Token: '(', position: Position(line=11, column=53), is a <class 'javalang.tokenizer.Separator'>\n",
      "Token: '\"Citus table is not a distributed table\"', position: Position(line=11, column=54), is a <class 'javalang.tokenizer.String'>\n",
      "Token: ')', position: Position(line=11, column=94), is a <class 'javalang.tokenizer.Separator'>\n",
      "Token: ';', position: Position(line=11, column=95), is a <class 'javalang.tokenizer.Separator'>\n",
      "Token: '}', position: Position(line=12, column=13), is a <class 'javalang.tokenizer.Separator'>\n",
      "Token: '}', position: Position(line=13, column=9), is a <class 'javalang.tokenizer.Separator'>\n",
      "Token: '}', position: Position(line=14, column=5), is a <class 'javalang.tokenizer.Separator'>\n",
      "Token: '}', position: Position(line=15, column=1), is a <class 'javalang.tokenizer.Separator'>\n",
      "Token: '}', position: Position(line=16, column=1), is a <class 'javalang.tokenizer.Separator'>\n"
     ]
    }
   ],
   "source": [
    "tokens = list(javalang.tokenizer.tokenize(code_snippet))\n",
    "\n",
    "for token in tokens:\n",
    "    print(f\"Token: '{token.value}', position: {token.position}, is a {type(token)}\")"
   ]
  },
  {
   "cell_type": "code",
   "execution_count": 48,
   "metadata": {},
   "outputs": [],
   "source": [
    "\"\"\"\n",
    "    Get the list of keywords\n",
    "\"\"\"\n",
    "def get_keywords(src):\n",
    "   tokens = list(javalang.tokenizer.tokenize(src))\n",
    "   return [token.value for token in tokens if isinstance(token, javalang.tokenizer.Keyword)]"
   ]
  },
  {
   "cell_type": "code",
   "execution_count": 49,
   "metadata": {},
   "outputs": [
    {
     "name": "stdout",
     "output_type": "stream",
     "text": [
      "['class', 'public', 'void', 'throws', 'try', 'while', 'if', 'throw']\n"
     ]
    }
   ],
   "source": [
    "print(get_keywords(code_snippet))"
   ]
  },
  {
   "cell_type": "code",
   "execution_count": 50,
   "metadata": {},
   "outputs": [
    {
     "name": "stdout",
     "output_type": "stream",
     "text": [
      "loz\n"
     ]
    }
   ],
   "source": [
    "if 'if' or 'else' or 'else if' or 'try' or 'catch' or 'finally' or 'switch' in get_keywords(code_snippet):\n",
    "    print('loz')"
   ]
  }
 ],
 "metadata": {
  "kernelspec": {
   "display_name": "base",
   "language": "python",
   "name": "python3"
  },
  "language_info": {
   "codemirror_mode": {
    "name": "ipython",
    "version": 3
   },
   "file_extension": ".py",
   "mimetype": "text/x-python",
   "name": "python",
   "nbconvert_exporter": "python",
   "pygments_lexer": "ipython3",
   "version": "3.10.9"
  },
  "orig_nbformat": 4
 },
 "nbformat": 4,
 "nbformat_minor": 2
}
