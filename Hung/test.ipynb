{
 "cells": [
  {
   "cell_type": "code",
   "execution_count": 1,
   "metadata": {},
   "outputs": [],
   "source": [
    "import javalang"
   ]
  },
  {
   "cell_type": "code",
   "execution_count": 3,
   "metadata": {},
   "outputs": [],
   "source": [
    "tree=javalang.parse.parse(\"\"\"package example;\n",
    "\n",
    "public class HelloWorld {\n",
    "\n",
    "    public HelloWorld() {\n",
    "\n",
    "    }\n",
    "\n",
    "    public static void foo(int x){\n",
    "        int y=x-100;\n",
    "        if (x>0){\n",
    "            if (y<0){\n",
    "                System.out.println(y+x);\n",
    "            }\n",
    "            else{\n",
    "                foo(x+1);\n",
    "            }\n",
    "        }\n",
    "    }\n",
    "    public static int bar(){\n",
    "        return 1;\n",
    "    }\n",
    "    public static void main(String[] var0) {\n",
    "        HelloWorld x=new HelloWorld();\n",
    "        System.out.println(\"Hello World!\");\n",
    "\n",
    "    }\n",
    "\n",
    "}\"\"\")"
   ]
  },
  {
   "cell_type": "code",
   "execution_count": 38,
   "metadata": {},
   "outputs": [
    {
     "name": "stdout",
     "output_type": "stream",
     "text": [
      "False\n",
      "False\n"
     ]
    }
   ],
   "source": [
    "method=[]\n",
    "for _,node in tree.filter(javalang.tree.MethodDeclaration):\n",
    "    if node.name==\"foo\":\n",
    "        for stmt in node.body:\n",
    "            print(isinstance(stmt,javalang.tree.BlockStatement))"
   ]
  },
  {
   "cell_type": "code",
   "execution_count": 31,
   "metadata": {},
   "outputs": [],
   "source": [
    "def depth(root):\n",
    "    children = None\n",
    "\n",
    "    if isinstance(root, javalang.ast.Node):\n",
    "        return 1+depth(node)\n",
    "        children = root.children\n",
    "    else:\n",
    "        children = root\n",
    "\n",
    "    for child in children:\n",
    "        if isinstance(child, (javalang.ast.Node, list, tuple)):\n",
    "            return "
   ]
  },
  {
   "cell_type": "code",
   "execution_count": null,
   "metadata": {},
   "outputs": [],
   "source": []
  }
 ],
 "metadata": {
  "kernelspec": {
   "display_name": "RISE",
   "language": "python",
   "name": "python3"
  },
  "language_info": {
   "codemirror_mode": {
    "name": "ipython",
    "version": 3
   },
   "file_extension": ".py",
   "mimetype": "text/x-python",
   "name": "python",
   "nbconvert_exporter": "python",
   "pygments_lexer": "ipython3",
   "version": "3.11.1"
  },
  "orig_nbformat": 4
 },
 "nbformat": 4,
 "nbformat_minor": 2
}
