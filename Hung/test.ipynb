{
 "cells": [
  {
   "cell_type": "code",
   "execution_count": 2,
   "metadata": {},
   "outputs": [
    {
     "name": "stdout",
     "output_type": "stream",
     "text": [
      "Position(line=9, column=9)\n",
      "Position(line=11, column=13)\n"
     ]
    }
   ],
   "source": [
    "import javalang \n",
    "test=\"\"\"\n",
    "void actionPerformed(ActionEvent e) {\n",
    "\n",
    "    String cmd = e.getActionCommand();\n",
    "\n",
    "    if (cmd != null) {\n",
    "\n",
    "        if (cmd.equals(\"interrupt\"))\n",
    "\n",
    "            exportFile.delete();\n",
    "\n",
    "        }\n",
    "    }\n",
    "\n",
    "\"\"\"\n",
    "from methodCFG import Sunit\n",
    "cls=\"public class Main{\\n\"+test+\"\\n}\"\n",
    "sunit=Sunit(test)\n",
    "tree=javalang.parse.parse(cls)\n",
    "for unit in sunit.composeSunit():\n",
    "    print(unit.position)\n",
    "# for _,node in tree.filter(javalang.tree.IfStatement):\n",
    "#     print(type(node.then_statement))\n",
    "# for node in sunit.composeSunit():\n",
    "#     print(node)\n",
    "# def findData(root):\n",
    "#     res=[]\n",
    "#     children=None\n",
    "#     if isinstance(root,javalang.ast.Node):\n",
    "#         if isinstance(root,(javalang.tree.MemberReference,javalang.tree.This)):\n",
    "#             return [root]\n",
    "#         else:\n",
    "#             children=root.children\n",
    "#     else:\n",
    "#         children=root\n",
    "#     for child in children:\n",
    "#         if isinstance(child, (javalang.ast.Node, list, tuple)):\n",
    "            \n",
    "#             res+=findData(child)\n",
    "#     return res\n",
    "# for _,node in tree.filter(javalang.tree.StatementExpression):\n",
    "#     print(findData(node))\n",
    "# def containData(root,data):\n",
    "#     pass\n",
    "# datalist=[]\n",
    "    "
   ]
  },
  {
   "cell_type": "code",
   "execution_count": null,
   "metadata": {},
   "outputs": [],
   "source": []
  }
 ],
 "metadata": {
  "kernelspec": {
   "display_name": "RISE",
   "language": "python",
   "name": "python3"
  },
  "language_info": {
   "codemirror_mode": {
    "name": "ipython",
    "version": 3
   },
   "file_extension": ".py",
   "mimetype": "text/x-python",
   "name": "python",
   "nbconvert_exporter": "python",
   "pygments_lexer": "ipython3",
   "version": "3.11.1"
  },
  "orig_nbformat": 4
 },
 "nbformat": 4,
 "nbformat_minor": 2
}
