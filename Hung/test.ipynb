{
 "cells": [
  {
   "cell_type": "code",
   "execution_count": 1,
   "metadata": {},
   "outputs": [
    {
     "name": "stdout",
     "output_type": "stream",
     "text": [
      "[BreakStatement(goto=None, label=None)]\n",
      "[BreakStatement(goto=None, label=None), StatementExpression(expression=Assignment(expressionl=MemberReference(member=a, postfix_operators=[], prefix_operators=[], qualifier=, selectors=[]), type=+=, value=Literal(postfix_operators=[], prefix_operators=[], qualifier=None, selectors=[], value=2)), label=None)]\n"
     ]
    }
   ],
   "source": [
    "import javalang \n",
    "test=\"\"\"\n",
    "void returnPressed() {\n",
    "\n",
    " int a=0;\n",
    " switch(a){\n",
    " case 1:\n",
    " a+=2;\n",
    " break;\n",
    " case 2:\n",
    " a+=2;\n",
    " }\n",
    "}\n",
    "\"\"\"\n",
    "from methodCFG import Sunit\n",
    "cls=\"public class Main{\\n\"+test+\"\\n}\"\n",
    "sunit=Sunit(test)\n",
    "# tree=javalang.parse.parse(cls)\n",
    "# for _,node in tree.filter(javalang.tree.SwitchStatement):\n",
    "#     print(node.attrs)\n",
    "# for _,node in tree.filter(javalang.tree.IfStatement):\n",
    "#     print(type(node.then_statement))\n",
    "# for node in sunit.composeSunit():\n",
    "#     print(node)\n",
    "# def findData(root):\n",
    "#     res=[]\n",
    "#     children=None\n",
    "#     if isinstance(root,javalang.ast.Node):\n",
    "#         if isinstance(root,(javalang.tree.MemberReference,javalang.tree.This)):\n",
    "#             return [root]\n",
    "#         else:\n",
    "#             children=root.children\n",
    "#     else:\n",
    "#         children=root\n",
    "#     for child in children:\n",
    "#         if isinstance(child, (javalang.ast.Node, list, tuple)):\n",
    "            \n",
    "#             res+=findData(child)\n",
    "#     return res\n",
    "# for _,node in tree.filter(javalang.tree.StatementExpression):\n",
    "#     print(findData(node))\n",
    "# def containData(root,data):\n",
    "#     pass\n",
    "# datalist=[]\n",
    "    "
   ]
  },
  {
   "cell_type": "code",
   "execution_count": 6,
   "metadata": {},
   "outputs": [
    {
     "name": "stdout",
     "output_type": "stream",
     "text": [
      "caught 6554\n",
      "caught 6657\n",
      "caught 6673\n",
      "caught 6680\n"
     ]
    }
   ],
   "source": [
    "import json \n",
    "from methodCFG import Sunit\n",
    "with open(\"../full_set.json\",'r') as f:\n",
    "    data=json.load(f)\n",
    "for i in range(len(data)):\n",
    "    source=data[i]['source']\n",
    "    src_len=len(data[i]['source'].split('\\n'))\n",
    "    try:\n",
    "\n",
    "        sunit=Sunit(data[i]['source'])\n",
    "    except:\n",
    "        continue\n",
    "    sunits=sunit.composeSunit()\n",
    "    # print(f\"data number {i} has {src_len} line of code and number of sunit is:{len(sunits)} and percentage of line of code is {100*len(sunits)/src_len}\")\n",
    "    if len(sunits)==0:\n",
    "        print(f\"caught {i}\")"
   ]
  },
  {
   "cell_type": "code",
   "execution_count": 2,
   "metadata": {},
   "outputs": [
    {
     "name": "stdout",
     "output_type": "stream",
     "text": [
      "[1, 2, 3, 12, 3]\n"
     ]
    }
   ],
   "source": [
    "x=[]\n",
    "x+=[1,2,3]\n",
    "x+=[12,3]\n",
    "print(x)"
   ]
  },
  {
   "cell_type": "code",
   "execution_count": null,
   "metadata": {},
   "outputs": [],
   "source": []
  }
 ],
 "metadata": {
  "kernelspec": {
   "display_name": "RISE",
   "language": "python",
   "name": "python3"
  },
  "language_info": {
   "codemirror_mode": {
    "name": "ipython",
    "version": 3
   },
   "file_extension": ".py",
   "mimetype": "text/x-python",
   "name": "python",
   "nbconvert_exporter": "python",
   "pygments_lexer": "ipython3",
   "version": "3.11.1"
  },
  "orig_nbformat": 4
 },
 "nbformat": 4,
 "nbformat_minor": 2
}
