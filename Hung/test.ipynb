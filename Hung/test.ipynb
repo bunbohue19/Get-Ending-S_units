{
 "cells": [
  {
   "cell_type": "code",
   "execution_count": 20,
   "metadata": {},
   "outputs": [
    {
     "name": "stdout",
     "output_type": "stream",
     "text": [
      "[ClassDeclaration(annotations=[], body=[MethodDeclaration(annotations=[], body=[LocalVariableDeclaration(annotations=[], declarators=[VariableDeclarator(dimensions=[], initializer=MethodInvocation(arguments=[], member=getShell, postfix_operators=[], prefix_operators=[], qualifier=, selectors=[], type_arguments=None), name=s)], modifiers=set(), type=ReferenceType(arguments=None, dimensions=[], name=Shell, sub_type=None)), LocalVariableDeclaration(annotations=[], declarators=[VariableDeclarator(dimensions=[], initializer=MethodInvocation(arguments=[], member=getEnteredText, postfix_operators=[], prefix_operators=[], qualifier=s, selectors=[], type_arguments=None), name=input)], modifiers=set(), type=ReferenceType(arguments=None, dimensions=[], name=String, sub_type=None)), StatementExpression(expression=MethodInvocation(arguments=[MemberReference(member=input, postfix_operators=[], prefix_operators=[], qualifier=, selectors=[])], member=addElement, postfix_operators=[], prefix_operators=[], qualifier=history, selectors=[], type_arguments=None), label=None), StatementExpression(expression=Assignment(expressionl=This(postfix_operators=[], prefix_operators=[], qualifier=None, selectors=[MemberReference(member=x, postfix_operators=None, prefix_operators=None, qualifier=None, selectors=None)]), type==, value=BinaryOperation(operandl=Literal(postfix_operators=[], prefix_operators=[], qualifier=None, selectors=[], value=12), operandr=MemberReference(member=y, postfix_operators=[], prefix_operators=[], qualifier=, selectors=[]), operator=+)), label=None), LocalVariableDeclaration(annotations=[], declarators=[VariableDeclarator(dimensions=[], initializer=MethodInvocation(arguments=[MemberReference(member=input, postfix_operators=[], prefix_operators=[], qualifier=, selectors=[])], member=evaluate, postfix_operators=[], prefix_operators=[], qualifier=, selectors=[], type_arguments=None), name=result)], modifiers=set(), type=ReferenceType(arguments=None, dimensions=[], name=String, sub_type=None)), StatementExpression(expression=MemberReference(member=x, postfix_operators=['++'], prefix_operators=[], qualifier=, selectors=[]), label=None), StatementExpression(expression=MethodInvocation(arguments=[MemberReference(member=result, postfix_operators=[], prefix_operators=[], qualifier=, selectors=[])], member=append, postfix_operators=[], prefix_operators=[], qualifier=s, selectors=[], type_arguments=None), label=None)], documentation=None, modifiers=set(), name=returnPressed, parameters=[FormalParameter(annotations=[], modifiers=set(), name=y, type=BasicType(dimensions=[], name=int), varargs=False)], return_type=None, throws=None, type_parameters=None)], documentation=None, extends=None, implements=None, modifiers={'public'}, name=Main, type_parameters=None), MethodDeclaration(annotations=[], body=[LocalVariableDeclaration(annotations=[], declarators=[VariableDeclarator(dimensions=[], initializer=MethodInvocation(arguments=[], member=getShell, postfix_operators=[], prefix_operators=[], qualifier=, selectors=[], type_arguments=None), name=s)], modifiers=set(), type=ReferenceType(arguments=None, dimensions=[], name=Shell, sub_type=None)), LocalVariableDeclaration(annotations=[], declarators=[VariableDeclarator(dimensions=[], initializer=MethodInvocation(arguments=[], member=getEnteredText, postfix_operators=[], prefix_operators=[], qualifier=s, selectors=[], type_arguments=None), name=input)], modifiers=set(), type=ReferenceType(arguments=None, dimensions=[], name=String, sub_type=None)), StatementExpression(expression=MethodInvocation(arguments=[MemberReference(member=input, postfix_operators=[], prefix_operators=[], qualifier=, selectors=[])], member=addElement, postfix_operators=[], prefix_operators=[], qualifier=history, selectors=[], type_arguments=None), label=None), StatementExpression(expression=Assignment(expressionl=This(postfix_operators=[], prefix_operators=[], qualifier=None, selectors=[MemberReference(member=x, postfix_operators=None, prefix_operators=None, qualifier=None, selectors=None)]), type==, value=BinaryOperation(operandl=Literal(postfix_operators=[], prefix_operators=[], qualifier=None, selectors=[], value=12), operandr=MemberReference(member=y, postfix_operators=[], prefix_operators=[], qualifier=, selectors=[]), operator=+)), label=None), LocalVariableDeclaration(annotations=[], declarators=[VariableDeclarator(dimensions=[], initializer=MethodInvocation(arguments=[MemberReference(member=input, postfix_operators=[], prefix_operators=[], qualifier=, selectors=[])], member=evaluate, postfix_operators=[], prefix_operators=[], qualifier=, selectors=[], type_arguments=None), name=result)], modifiers=set(), type=ReferenceType(arguments=None, dimensions=[], name=String, sub_type=None)), StatementExpression(expression=MemberReference(member=x, postfix_operators=['++'], prefix_operators=[], qualifier=, selectors=[]), label=None), StatementExpression(expression=MethodInvocation(arguments=[MemberReference(member=result, postfix_operators=[], prefix_operators=[], qualifier=, selectors=[])], member=append, postfix_operators=[], prefix_operators=[], qualifier=s, selectors=[], type_arguments=None), label=None)], documentation=None, modifiers=set(), name=returnPressed, parameters=[FormalParameter(annotations=[], modifiers=set(), name=y, type=BasicType(dimensions=[], name=int), varargs=False)], return_type=None, throws=None, type_parameters=None), FormalParameter(annotations=[], modifiers=set(), name=y, type=BasicType(dimensions=[], name=int), varargs=False), LocalVariableDeclaration(annotations=[], declarators=[VariableDeclarator(dimensions=[], initializer=MethodInvocation(arguments=[], member=getShell, postfix_operators=[], prefix_operators=[], qualifier=, selectors=[], type_arguments=None), name=s)], modifiers=set(), type=ReferenceType(arguments=None, dimensions=[], name=Shell, sub_type=None)), MethodInvocation(arguments=[], member=getShell, postfix_operators=[], prefix_operators=[], qualifier=, selectors=[], type_arguments=None), LocalVariableDeclaration(annotations=[], declarators=[VariableDeclarator(dimensions=[], initializer=MethodInvocation(arguments=[], member=getEnteredText, postfix_operators=[], prefix_operators=[], qualifier=s, selectors=[], type_arguments=None), name=input)], modifiers=set(), type=ReferenceType(arguments=None, dimensions=[], name=String, sub_type=None)), MethodInvocation(arguments=[], member=getEnteredText, postfix_operators=[], prefix_operators=[], qualifier=s, selectors=[], type_arguments=None), StatementExpression(expression=MethodInvocation(arguments=[MemberReference(member=input, postfix_operators=[], prefix_operators=[], qualifier=, selectors=[])], member=addElement, postfix_operators=[], prefix_operators=[], qualifier=history, selectors=[], type_arguments=None), label=None), MethodInvocation(arguments=[MemberReference(member=input, postfix_operators=[], prefix_operators=[], qualifier=, selectors=[])], member=addElement, postfix_operators=[], prefix_operators=[], qualifier=history, selectors=[], type_arguments=None), MemberReference(member=input, postfix_operators=[], prefix_operators=[], qualifier=, selectors=[]), StatementExpression(expression=Assignment(expressionl=This(postfix_operators=[], prefix_operators=[], qualifier=None, selectors=[MemberReference(member=x, postfix_operators=None, prefix_operators=None, qualifier=None, selectors=None)]), type==, value=BinaryOperation(operandl=Literal(postfix_operators=[], prefix_operators=[], qualifier=None, selectors=[], value=12), operandr=MemberReference(member=y, postfix_operators=[], prefix_operators=[], qualifier=, selectors=[]), operator=+)), label=None), MemberReference(member=x, postfix_operators=None, prefix_operators=None, qualifier=None, selectors=None), Literal(postfix_operators=[], prefix_operators=[], qualifier=None, selectors=[], value=12), MemberReference(member=y, postfix_operators=[], prefix_operators=[], qualifier=, selectors=[]), LocalVariableDeclaration(annotations=[], declarators=[VariableDeclarator(dimensions=[], initializer=MethodInvocation(arguments=[MemberReference(member=input, postfix_operators=[], prefix_operators=[], qualifier=, selectors=[])], member=evaluate, postfix_operators=[], prefix_operators=[], qualifier=, selectors=[], type_arguments=None), name=result)], modifiers=set(), type=ReferenceType(arguments=None, dimensions=[], name=String, sub_type=None)), MethodInvocation(arguments=[MemberReference(member=input, postfix_operators=[], prefix_operators=[], qualifier=, selectors=[])], member=evaluate, postfix_operators=[], prefix_operators=[], qualifier=, selectors=[], type_arguments=None), MemberReference(member=input, postfix_operators=[], prefix_operators=[], qualifier=, selectors=[]), StatementExpression(expression=MemberReference(member=x, postfix_operators=['++'], prefix_operators=[], qualifier=, selectors=[]), label=None), MemberReference(member=x, postfix_operators=['++'], prefix_operators=[], qualifier=, selectors=[]), StatementExpression(expression=MethodInvocation(arguments=[MemberReference(member=result, postfix_operators=[], prefix_operators=[], qualifier=, selectors=[])], member=append, postfix_operators=[], prefix_operators=[], qualifier=s, selectors=[], type_arguments=None), label=None), MethodInvocation(arguments=[MemberReference(member=result, postfix_operators=[], prefix_operators=[], qualifier=, selectors=[])], member=append, postfix_operators=[], prefix_operators=[], qualifier=s, selectors=[], type_arguments=None), MemberReference(member=result, postfix_operators=[], prefix_operators=[], qualifier=, selectors=[])]\n",
      "[ClassDeclaration(annotations=[], body=[MethodDeclaration(annotations=[], body=[LocalVariableDeclaration(annotations=[], declarators=[VariableDeclarator(dimensions=[], initializer=MethodInvocation(arguments=[], member=getShell, postfix_operators=[], prefix_operators=[], qualifier=, selectors=[], type_arguments=None), name=s)], modifiers=set(), type=ReferenceType(arguments=None, dimensions=[], name=Shell, sub_type=None)), LocalVariableDeclaration(annotations=[], declarators=[VariableDeclarator(dimensions=[], initializer=MethodInvocation(arguments=[], member=getEnteredText, postfix_operators=[], prefix_operators=[], qualifier=s, selectors=[], type_arguments=None), name=input)], modifiers=set(), type=ReferenceType(arguments=None, dimensions=[], name=String, sub_type=None)), StatementExpression(expression=MethodInvocation(arguments=[MemberReference(member=input, postfix_operators=[], prefix_operators=[], qualifier=, selectors=[])], member=addElement, postfix_operators=[], prefix_operators=[], qualifier=history, selectors=[], type_arguments=None), label=None), StatementExpression(expression=Assignment(expressionl=This(postfix_operators=[], prefix_operators=[], qualifier=None, selectors=[MemberReference(member=x, postfix_operators=None, prefix_operators=None, qualifier=None, selectors=None)]), type==, value=BinaryOperation(operandl=Literal(postfix_operators=[], prefix_operators=[], qualifier=None, selectors=[], value=12), operandr=MemberReference(member=y, postfix_operators=[], prefix_operators=[], qualifier=, selectors=[]), operator=+)), label=None), LocalVariableDeclaration(annotations=[], declarators=[VariableDeclarator(dimensions=[], initializer=MethodInvocation(arguments=[MemberReference(member=input, postfix_operators=[], prefix_operators=[], qualifier=, selectors=[])], member=evaluate, postfix_operators=[], prefix_operators=[], qualifier=, selectors=[], type_arguments=None), name=result)], modifiers=set(), type=ReferenceType(arguments=None, dimensions=[], name=String, sub_type=None)), StatementExpression(expression=MemberReference(member=x, postfix_operators=['++'], prefix_operators=[], qualifier=, selectors=[]), label=None), StatementExpression(expression=MethodInvocation(arguments=[MemberReference(member=result, postfix_operators=[], prefix_operators=[], qualifier=, selectors=[])], member=append, postfix_operators=[], prefix_operators=[], qualifier=s, selectors=[], type_arguments=None), label=None)], documentation=None, modifiers=set(), name=returnPressed, parameters=[FormalParameter(annotations=[], modifiers=set(), name=y, type=BasicType(dimensions=[], name=int), varargs=False)], return_type=None, throws=None, type_parameters=None)], documentation=None, extends=None, implements=None, modifiers={'public'}, name=Main, type_parameters=None), MethodDeclaration(annotations=[], body=[LocalVariableDeclaration(annotations=[], declarators=[VariableDeclarator(dimensions=[], initializer=MethodInvocation(arguments=[], member=getShell, postfix_operators=[], prefix_operators=[], qualifier=, selectors=[], type_arguments=None), name=s)], modifiers=set(), type=ReferenceType(arguments=None, dimensions=[], name=Shell, sub_type=None)), LocalVariableDeclaration(annotations=[], declarators=[VariableDeclarator(dimensions=[], initializer=MethodInvocation(arguments=[], member=getEnteredText, postfix_operators=[], prefix_operators=[], qualifier=s, selectors=[], type_arguments=None), name=input)], modifiers=set(), type=ReferenceType(arguments=None, dimensions=[], name=String, sub_type=None)), StatementExpression(expression=MethodInvocation(arguments=[MemberReference(member=input, postfix_operators=[], prefix_operators=[], qualifier=, selectors=[])], member=addElement, postfix_operators=[], prefix_operators=[], qualifier=history, selectors=[], type_arguments=None), label=None), StatementExpression(expression=Assignment(expressionl=This(postfix_operators=[], prefix_operators=[], qualifier=None, selectors=[MemberReference(member=x, postfix_operators=None, prefix_operators=None, qualifier=None, selectors=None)]), type==, value=BinaryOperation(operandl=Literal(postfix_operators=[], prefix_operators=[], qualifier=None, selectors=[], value=12), operandr=MemberReference(member=y, postfix_operators=[], prefix_operators=[], qualifier=, selectors=[]), operator=+)), label=None), LocalVariableDeclaration(annotations=[], declarators=[VariableDeclarator(dimensions=[], initializer=MethodInvocation(arguments=[MemberReference(member=input, postfix_operators=[], prefix_operators=[], qualifier=, selectors=[])], member=evaluate, postfix_operators=[], prefix_operators=[], qualifier=, selectors=[], type_arguments=None), name=result)], modifiers=set(), type=ReferenceType(arguments=None, dimensions=[], name=String, sub_type=None)), StatementExpression(expression=MemberReference(member=x, postfix_operators=['++'], prefix_operators=[], qualifier=, selectors=[]), label=None), StatementExpression(expression=MethodInvocation(arguments=[MemberReference(member=result, postfix_operators=[], prefix_operators=[], qualifier=, selectors=[])], member=append, postfix_operators=[], prefix_operators=[], qualifier=s, selectors=[], type_arguments=None), label=None)], documentation=None, modifiers=set(), name=returnPressed, parameters=[FormalParameter(annotations=[], modifiers=set(), name=y, type=BasicType(dimensions=[], name=int), varargs=False)], return_type=None, throws=None, type_parameters=None), FormalParameter(annotations=[], modifiers=set(), name=y, type=BasicType(dimensions=[], name=int), varargs=False), LocalVariableDeclaration(annotations=[], declarators=[VariableDeclarator(dimensions=[], initializer=MethodInvocation(arguments=[], member=getShell, postfix_operators=[], prefix_operators=[], qualifier=, selectors=[], type_arguments=None), name=s)], modifiers=set(), type=ReferenceType(arguments=None, dimensions=[], name=Shell, sub_type=None)), MethodInvocation(arguments=[], member=getShell, postfix_operators=[], prefix_operators=[], qualifier=, selectors=[], type_arguments=None), LocalVariableDeclaration(annotations=[], declarators=[VariableDeclarator(dimensions=[], initializer=MethodInvocation(arguments=[], member=getEnteredText, postfix_operators=[], prefix_operators=[], qualifier=s, selectors=[], type_arguments=None), name=input)], modifiers=set(), type=ReferenceType(arguments=None, dimensions=[], name=String, sub_type=None)), MethodInvocation(arguments=[], member=getEnteredText, postfix_operators=[], prefix_operators=[], qualifier=s, selectors=[], type_arguments=None), StatementExpression(expression=MethodInvocation(arguments=[MemberReference(member=input, postfix_operators=[], prefix_operators=[], qualifier=, selectors=[])], member=addElement, postfix_operators=[], prefix_operators=[], qualifier=history, selectors=[], type_arguments=None), label=None), MethodInvocation(arguments=[MemberReference(member=input, postfix_operators=[], prefix_operators=[], qualifier=, selectors=[])], member=addElement, postfix_operators=[], prefix_operators=[], qualifier=history, selectors=[], type_arguments=None), MemberReference(member=input, postfix_operators=[], prefix_operators=[], qualifier=, selectors=[]), StatementExpression(expression=Assignment(expressionl=This(postfix_operators=[], prefix_operators=[], qualifier=None, selectors=[MemberReference(member=x, postfix_operators=None, prefix_operators=None, qualifier=None, selectors=None)]), type==, value=BinaryOperation(operandl=Literal(postfix_operators=[], prefix_operators=[], qualifier=None, selectors=[], value=12), operandr=MemberReference(member=y, postfix_operators=[], prefix_operators=[], qualifier=, selectors=[]), operator=+)), label=None), MemberReference(member=x, postfix_operators=None, prefix_operators=None, qualifier=None, selectors=None), Literal(postfix_operators=[], prefix_operators=[], qualifier=None, selectors=[], value=12), MemberReference(member=y, postfix_operators=[], prefix_operators=[], qualifier=, selectors=[]), LocalVariableDeclaration(annotations=[], declarators=[VariableDeclarator(dimensions=[], initializer=MethodInvocation(arguments=[MemberReference(member=input, postfix_operators=[], prefix_operators=[], qualifier=, selectors=[])], member=evaluate, postfix_operators=[], prefix_operators=[], qualifier=, selectors=[], type_arguments=None), name=result)], modifiers=set(), type=ReferenceType(arguments=None, dimensions=[], name=String, sub_type=None)), MethodInvocation(arguments=[MemberReference(member=input, postfix_operators=[], prefix_operators=[], qualifier=, selectors=[])], member=evaluate, postfix_operators=[], prefix_operators=[], qualifier=, selectors=[], type_arguments=None), MemberReference(member=input, postfix_operators=[], prefix_operators=[], qualifier=, selectors=[]), StatementExpression(expression=MemberReference(member=x, postfix_operators=['++'], prefix_operators=[], qualifier=, selectors=[]), label=None), MemberReference(member=x, postfix_operators=['++'], prefix_operators=[], qualifier=, selectors=[]), StatementExpression(expression=MethodInvocation(arguments=[MemberReference(member=result, postfix_operators=[], prefix_operators=[], qualifier=, selectors=[])], member=append, postfix_operators=[], prefix_operators=[], qualifier=s, selectors=[], type_arguments=None), label=None), MethodInvocation(arguments=[MemberReference(member=result, postfix_operators=[], prefix_operators=[], qualifier=, selectors=[])], member=append, postfix_operators=[], prefix_operators=[], qualifier=s, selectors=[], type_arguments=None), MemberReference(member=result, postfix_operators=[], prefix_operators=[], qualifier=, selectors=[])]\n"
     ]
    }
   ],
   "source": [
    "import javalang \n",
    "test=\"\"\"public class Main{\n",
    "        void returnPressed(int y) {\n",
    "            Shell s = getShell();\n",
    "            \n",
    "            String input = s.getEnteredText();\n",
    "            \n",
    "            history.addElement(input);\n",
    "            this.x=12+y;\n",
    "            String result = evaluate(input);\n",
    "            x++;\n",
    "            s.append(result);\n",
    "            if (x>0){\n",
    "                return;\n",
    "                x+=12;\n",
    "            }\n",
    "        }\n",
    "}\"\"\"\n",
    "testline=[]\n",
    "tree=javalang.parse.parse(test)\n",
    "for _,node in tree:\n",
    "    if node.position is not None:\n",
    "        testline.append(node)\n",
    "def getpos(node):\n",
    "\n",
    "    return node.position.line\n",
    "print(testline)\n",
    "testline.sort(key=getpos)\n",
    "print(testline)\n",
    "# def findData(root):\n",
    "#     res=[]\n",
    "#     children=None\n",
    "#     if isinstance(root,javalang.ast.Node):\n",
    "#         if isinstance(root,(javalang.tree.MemberReference,javalang.tree.This)):\n",
    "#             return [root]\n",
    "#         else:\n",
    "#             children=root.children\n",
    "#     else:\n",
    "#         children=root\n",
    "#     for child in children:\n",
    "#         if isinstance(child, (javalang.ast.Node, list, tuple)):\n",
    "            \n",
    "#             res+=findData(child)\n",
    "#     return res\n",
    "# for _,node in tree.filter(javalang.tree.StatementExpression):\n",
    "#     print(findData(node))\n",
    "# def containData(root,data):\n",
    "#     pass\n",
    "# datalist=[]\n",
    "    "
   ]
  },
  {
   "cell_type": "code",
   "execution_count": 18,
   "metadata": {},
   "outputs": [
    {
     "name": "stdout",
     "output_type": "stream",
     "text": [
      "ast gen\n",
      "StatementExpression(expression=MethodInvocation(arguments=[MethodInvocation(arguments=[MethodInvocation(arguments=[MemberReference(member=x, postfix_operators=[], prefix_operators=[], qualifier=, selectors=[])], member=decode, postfix_operators=[], prefix_operators=[], qualifier=input, selectors=[], type_arguments=None)], member=decode, postfix_operators=[], prefix_operators=[], qualifier=s, selectors=[], type_arguments=None)], member=addElement, postfix_operators=[], prefix_operators=[], qualifier=history, selectors=[], type_arguments=None), label=None)\n",
      "StatementExpression(expression=MethodInvocation(arguments=[MemberReference(member=result, postfix_operators=[], prefix_operators=[], qualifier=, selectors=[])], member=append, postfix_operators=[], prefix_operators=[], qualifier=s, selectors=[], type_arguments=None), label=None)\n",
      "cfg gen\n",
      "StatementExpression(expression=MethodInvocation(arguments=[MethodInvocation(arguments=[MethodInvocation(arguments=[MemberReference(member=x, postfix_operators=[], prefix_operators=[], qualifier=, selectors=[])], member=decode, postfix_operators=[], prefix_operators=[], qualifier=input, selectors=[], type_arguments=None)], member=decode, postfix_operators=[], prefix_operators=[], qualifier=s, selectors=[], type_arguments=None)], member=addElement, postfix_operators=[], prefix_operators=[], qualifier=history, selectors=[], type_arguments=None), label=None)\n",
      "StatementExpression(expression=MethodInvocation(arguments=[MemberReference(member=result, postfix_operators=[], prefix_operators=[], qualifier=, selectors=[])], member=append, postfix_operators=[], prefix_operators=[], qualifier=s, selectors=[], type_arguments=None), label=None)\n"
     ]
    }
   ],
   "source": [
    "from methodCFG import Sunit\n",
    "import json\n",
    "body=None\n",
    "print(\"ast gen\")\n",
    "\n",
    "for _,node in tree.filter(javalang.tree.StatementExpression):\n",
    "    if isinstance(node.expression,javalang.tree.MethodInvocation ):\n",
    "        print(node)\n",
    "print(\"cfg gen\")\n",
    "sunit=Sunit(test)\n",
    "for node in sunit.cfg.nodes:\n",
    "    if isinstance(node,javalang.tree.StatementExpression):\n",
    "        if isinstance(node.expression,javalang.tree.MethodInvocation ):\n",
    "            print(node)\n",
    "with open('../full_set.json', 'r') as json_file:\n",
    "    data = json.load(json_file)\n",
    "for dt in data:\n",
    "    try:\n",
    "        sunit=Sunit(dt['source'])\n",
    "    except:\n",
    "        continue\n",
    "        \n",
    "    for node in sunit.ast.filter(javalang.tree.MethodInvocation):\n",
    "        if isinstance(node,javalang.tree.StatementExpression):\n",
    "            if isinstance(node.expression,javalang.tree.MethodInvocation):\n",
    "                print(node)"
   ]
  },
  {
   "cell_type": "code",
   "execution_count": null,
   "metadata": {},
   "outputs": [],
   "source": [
    "import json\n",
    "from methodCFG import cfg\n",
    "import javalang\n",
    "data=None\n",
    "with open('../full_set.json', 'r') as json_file:\n",
    "    data = json.load(json_file)\n",
    "\n",
    "    # Access the data\n",
    "    #print(data[0]['source'])\n",
    "\n",
    "# for _,node in tree.filter(javalang.tree.TryStatement):\n",
    "#     print(node.block)\n",
    "print(len(data))\n",
    "fault=[]\n",
    "for i in range(len(data)):\n",
    "    if i in [104]:\n",
    "        continue\n",
    "    print(f\"ending: {i}\")\n",
    "    # print(data[i]['source'])\n",
    "    try:\n",
    "        sunit=cfg(data[i]['source'])\n",
    "    except:\n",
    "        fault.append(i)\n",
    "        continue\n",
    "    endings=sunit.getEndingSunit()\n",
    "    for ending in endings:\n",
    "        print(type(ending))\n",
    "        print(ending.position)\n",
    "    "
   ]
  }
 ],
 "metadata": {
  "kernelspec": {
   "display_name": "RISE",
   "language": "python",
   "name": "python3"
  },
  "language_info": {
   "codemirror_mode": {
    "name": "ipython",
    "version": 3
   },
   "file_extension": ".py",
   "mimetype": "text/x-python",
   "name": "python",
   "nbconvert_exporter": "python",
   "pygments_lexer": "ipython3",
   "version": "3.11.1"
  },
  "orig_nbformat": 4
 },
 "nbformat": 4,
 "nbformat_minor": 2
}
