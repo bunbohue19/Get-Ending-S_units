{
 "cells": [
  {
   "cell_type": "code",
   "execution_count": 2,
   "metadata": {},
   "outputs": [
    {
     "name": "stdout",
     "output_type": "stream",
     "text": [
      "public class Main {\n",
      "\n",
      "public static void closeAll(Iterable<? extends AutoCloseable> closeables, Class<T> suppressedException) throws Exception {\n",
      "    if (null != closeables) {\n",
      "        Exception collectedExceptions = null;\n",
      "        for (AutoCloseable closeable : closeables) {\n",
      "            try {\n",
      "                if (null != closeable) {\n",
      "                    closeable.close();\n",
      "                }\n",
      "            } catch (Throwable e) {\n",
      "                if (!suppressedException.isAssignableFrom(e.getClass())) {\n",
      "                    throw e;\n",
      "                }\n",
      "                Exception ex = e instanceof Exception ? (Exception) e : new Exception(e);\n",
      "                collectedExceptions = ExceptionUtils.firstOrSuppressed(ex, collectedExceptions);\n",
      "            }\n",
      "        }\n",
      "        if (null != collectedExceptions) {\n",
      "            throw collectedExceptions;\n",
      "        }\n",
      "    }\n",
      "}\n",
      "\n",
      "\n",
      "}\n",
      "\n",
      "public static void closeAll(Iterable<? extends AutoCloseable> closeables, Class<T> suppressedException) throws Exception {\n",
      "        for (AutoCloseable closeable : closeables) {\n",
      "                    closeable.close();\n",
      "                }\n",
      "            } catch (Throwable e) {\n",
      "                if (!suppressedException.isAssignableFrom(e.getClass())) {\n",
      "                Exception ex = e instanceof Exception ? (Exception) e : new Exception(e);\n",
      "            }\n",
      "        }\n",
      "        if (null != collectedExceptions) {\n",
      "            throw collectedExceptions;\n",
      "        }\n",
      "    }\n",
      "}\n",
      "\n",
      "\n",
      "0.6538461538461539\n"
     ]
    }
   ],
   "source": [
    "import javalang \n",
    "test=\"\"\"\n",
    "public static void closeAll(Iterable<? extends AutoCloseable> closeables, Class<T> suppressedException) throws Exception {\n",
    "    if (null != closeables) {\n",
    "        Exception collectedExceptions = null;\n",
    "        for (AutoCloseable closeable : closeables) {\n",
    "            try {\n",
    "                if (null != closeable) {\n",
    "                    closeable.close();\n",
    "                }\n",
    "            } catch (Throwable e) {\n",
    "                if (!suppressedException.isAssignableFrom(e.getClass())) {\n",
    "                    throw e;\n",
    "                }\n",
    "                Exception ex = e instanceof Exception ? (Exception) e : new Exception(e);\n",
    "                collectedExceptions = ExceptionUtils.firstOrSuppressed(ex, collectedExceptions);\n",
    "            }\n",
    "        }\n",
    "        if (null != collectedExceptions) {\n",
    "            throw collectedExceptions;\n",
    "        }\n",
    "    }\n",
    "}\n",
    "\n",
    "\"\"\"\n",
    "from methodCFG import Sunit\n",
    "cls=\"public class Main{\\n\"+test+\"\\n}\"\n",
    "sunit=Sunit(test)\n",
    "tree=javalang.parse.parse(cls)\n",
    "\n",
    "print(sunit.source_code)\n",
    "before=len(sunit.source_code.split('\\n'))\n",
    "sunit.composeSunit()\n",
    "print(sunit.source_code)\n",
    "after=len(sunit.source_code.split('\\n'))\n",
    "print(after/before)\n",
    "    "
   ]
  },
  {
   "cell_type": "code",
   "execution_count": 1,
   "metadata": {},
   "outputs": [
    {
     "name": "stdout",
     "output_type": "stream",
     "text": [
      "<class 'list'>\n",
      "160\n"
     ]
    }
   ],
   "source": [
    "import json \n",
    "from methodCFG import Sunit\n",
    "import numpy as np\n",
    "with open(\"../full_set.json\",'r') as f:\n",
    "    data=json.load(f)\n",
    "    print(type(data))\n",
    "analysis_sunit=[]\n",
    "dtpoint=0\n",
    "max=100\n",
    "min =0\n",
    "output=[]\n",
    "count=0\n",
    "for i in range(len(data)):\n",
    "    source=data[i]['source']\n",
    "    src_len=len(data[i]['source'].split('\\n'))\n",
    "    try:\n",
    "\n",
    "        sunit=Sunit(data[i]['source'])\n",
    "        dtpoint+=1\n",
    "    except:\n",
    "        continue\n",
    "        \n",
    "    before=len(sunit.source_code.split('\\n'))\n",
    "    sunits=sunit.composeSunit()\n",
    "    new_data={\n",
    "        'new_source':sunit.source_code\n",
    "    }\n",
    "    output.append(new_data)\n",
    "    after=len(sunit.source_code.split('\\n'))\n",
    "    #print(f\"data number {i} has {src_len} line of code and number of sunit is:{len(sunits)} and percentage of line of code is {100*(len(sunits)+1)/(len(sunit.cfg.nodes))}\")\n",
    "    analysis_sunit.append(100*after/before)\n",
    "    if after/before>0.2 and after/before<0.3:\n",
    "        count+=1\n",
    "print(count)"
   ]
  },
  {
   "cell_type": "code",
   "execution_count": 2,
   "metadata": {},
   "outputs": [
    {
     "name": "stdout",
     "output_type": "stream",
     "text": [
      "max\n",
      "97.71428571428571\n",
      "min\n",
      "3.816793893129771\n",
      "median\n",
      "60.0\n",
      "std\n",
      "14.268572185983688\n",
      "avg\n",
      "59.768516240925194\n"
     ]
    }
   ],
   "source": [
    "a=np.array(analysis_sunit)\n",
    "print(\"max\")\n",
    "print(np.max(a))\n",
    "print(\"min\")\n",
    "print(np.min(a))\n",
    "print(\"median\")\n",
    "print(np.median(a))\n",
    "print(\"std\")\n",
    "print(np.std(a))\n",
    "print(\"avg\")\n",
    "print(np.average(a))"
   ]
  },
  {
   "cell_type": "code",
   "execution_count": 3,
   "metadata": {},
   "outputs": [],
   "source": [
    "with open('sunit_processed.json','w') as f:\n",
    "    json.dump(output,f)"
   ]
  },
  {
   "cell_type": "code",
   "execution_count": 6,
   "metadata": {},
   "outputs": [
    {
     "name": "stdout",
     "output_type": "stream",
     "text": [
      "public static String getLibcName() {\n",
      "    } else {\n",
      "        return null;\n",
      "    }\n",
      "}\n"
     ]
    }
   ],
   "source": [
    "with open(\"sunit_processed.json\",'r') as f:\n",
    "    data=json.load(f)\n",
    "    print(data[0]['new_source'])"
   ]
  },
  {
   "cell_type": "code",
   "execution_count": 7,
   "metadata": {},
   "outputs": [
    {
     "name": "stdout",
     "output_type": "stream",
     "text": [
      "public static String getLibcName() {\n",
      "    if (isMuslLibc()) {\n",
      "        return \"musl\";\n",
      "    } else {\n",
      "        return null;\n",
      "    }\n",
      "}\n"
     ]
    }
   ],
   "source": [
    "with open(\"../full_set.json\",'r') as f:\n",
    "    data=json.load(f)\n",
    "    print(data[0]['source'])\n",
    "sunit=Sunit(data[0]['source'])\n",
    "sunit.composeSunit()\n"
   ]
  },
  {
   "cell_type": "code",
   "execution_count": null,
   "metadata": {},
   "outputs": [],
   "source": []
  }
 ],
 "metadata": {
  "kernelspec": {
   "display_name": "RISE",
   "language": "python",
   "name": "python3"
  },
  "language_info": {
   "codemirror_mode": {
    "name": "ipython",
    "version": 3
   },
   "file_extension": ".py",
   "mimetype": "text/x-python",
   "name": "python",
   "nbconvert_exporter": "python",
   "pygments_lexer": "ipython3",
   "version": "3.11.1"
  },
  "orig_nbformat": 4
 },
 "nbformat": 4,
 "nbformat_minor": 2
}
