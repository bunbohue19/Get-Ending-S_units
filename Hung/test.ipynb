{
 "cells": [
  {
   "cell_type": "code",
   "execution_count": 31,
   "metadata": {},
   "outputs": [],
   "source": [
    "import javalang \n",
    "tree=javalang.parse.parse(\"\"\"public class Main{\n",
    "    public void foo(int x){\n",
    "        int y=12*x;\n",
    "        for (int i=0;i<12;i++){\n",
    "            if (x>0 && y<0 ||x+y<12){\n",
    "                x+=1;\n",
    "                System.out.println(y+x);\n",
    "                return;\n",
    "            }else{\n",
    "                x-=1;\n",
    "                System.out.println(12);\n",
    "                continue label;  \n",
    "            }\n",
    "        }\n",
    "        int t=10/0;\n",
    "        label:\n",
    "        x+=1;\n",
    "        y+=1;\n",
    "        z+=1;\n",
    "    }\n",
    "}\"\"\")"
   ]
  },
  {
   "cell_type": "code",
   "execution_count": 32,
   "metadata": {},
   "outputs": [],
   "source": [
    "body=None\n",
    "for _,node in tree.filter(javalang.tree.MethodDeclaration):\n",
    "    body=node"
   ]
  },
  {
   "cell_type": "code",
   "execution_count": 33,
   "metadata": {},
   "outputs": [],
   "source": [
    "from methodCFG import cfg \n",
    "builder=cfg()\n",
    "G=builder.createCFG(body)#cfg from method"
   ]
  },
  {
   "cell_type": "code",
   "execution_count": 35,
   "metadata": {},
   "outputs": [
    {
     "name": "stdout",
     "output_type": "stream",
     "text": [
      "ReturnStatement(expression=MemberReference(member=y, postfix_operators=[], prefix_operators=[], qualifier=, selectors=[]), label=None)\n",
      "Position(line=8, column=17)\n",
      "ReturnStatement(expression=MemberReference(member=x, postfix_operators=[], prefix_operators=[], qualifier=, selectors=[]), label=None)\n",
      "Position(line=20, column=9)\n"
     ]
    }
   ],
   "source": [
    "#ending\n",
    "for node in G.nodes:\n",
    "\n",
    "    if (G.out_degree(node)==0):\n",
    "        if node.expression==None and node.label==None:\n",
    "            print(list(G.predecessors(node)))\n",
    "            for stmt in list(G.predecessors(node)):\n",
    "                print(stmt.position)\n",
    "        else:\n",
    "            print(node)\n",
    "            print(node.position)\n",
    "    "
   ]
  },
  {
   "cell_type": "code",
   "execution_count": 4,
   "metadata": {},
   "outputs": [
    {
     "name": "stdout",
     "output_type": "stream",
     "text": [
      "10\n"
     ]
    }
   ],
   "source": [
    "def inc(a:int,b:float):\n",
    "    a+=1\n",
    "    return a, b\n",
    "a=0\n",
    "b=10\n",
    "for i in range(10):\n",
    "    a,b=inc(a,b)\n",
    "print(a)"
   ]
  },
  {
   "cell_type": "code",
   "execution_count": 8,
   "metadata": {},
   "outputs": [
    {
     "name": "stdout",
     "output_type": "stream",
     "text": [
      "84\n"
     ]
    }
   ],
   "source": [
    "a=[]\n",
    "\n",
    "for _,node in body.filter(javalang.ast.Node):\n",
    "    if not node in a:\n",
    "        a.append(node)\n",
    "print(len(a))"
   ]
  },
  {
   "cell_type": "code",
   "execution_count": 19,
   "metadata": {},
   "outputs": [
    {
     "name": "stdout",
     "output_type": "stream",
     "text": [
      "[2]\n",
      "[]\n"
     ]
    }
   ],
   "source": [
    "import networkx as nx\n",
    "G=nx.DiGraph()\n",
    "G.add_node(1)\n",
    "G.add_node(2)\n",
    "G.add_edge(1,2)\n",
    "G.add_node(1)\n",
    "\n",
    "for node in G.nodes:\n",
    "    print(list(G.successors(node)))"
   ]
  },
  {
   "cell_type": "code",
   "execution_count": null,
   "metadata": {},
   "outputs": [],
   "source": []
  }
 ],
 "metadata": {
  "kernelspec": {
   "display_name": "RISE",
   "language": "python",
   "name": "python3"
  },
  "language_info": {
   "codemirror_mode": {
    "name": "ipython",
    "version": 3
   },
   "file_extension": ".py",
   "mimetype": "text/x-python",
   "name": "python",
   "nbconvert_exporter": "python",
   "pygments_lexer": "ipython3",
   "version": "3.11.1"
  },
  "orig_nbformat": 4
 },
 "nbformat": 4,
 "nbformat_minor": 2
}
