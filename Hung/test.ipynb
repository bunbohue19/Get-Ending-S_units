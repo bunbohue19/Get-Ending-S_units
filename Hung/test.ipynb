{
 "cells": [
  {
   "cell_type": "code",
   "execution_count": 22,
   "metadata": {},
   "outputs": [],
   "source": [
    "import javalang \n",
    "tree=javalang.parse.parse(\"\"\"public class Main{\\n\n",
    "    public void foo(int x){\n",
    "        int y=0;\n",
    "        \n",
    "        brk:\n",
    "        for (int i=0;i<12;i++){\n",
    "            for (int j=0;j<12;j++){\n",
    "                if (i>3 ){\n",
    "                    break brk;  \n",
    "                    x+=10;\n",
    "                }\n",
    "            }\n",
    "        }\n",
    "    ArrayList<Integer> a=new ArrayList<>();\n",
    "    a.add(0);\n",
    "    x=a.get(0);\n",
    "    Shell shell=new Shell();\n",
    "    shell.open();\n",
    "    try(ResourceType resource1 = new ResourceType()) {\n",
    "        int[] myNumbers = {1, 2, 3};\n",
    "           \n",
    "        System.out.println(myNumbers[10]);\n",
    "    } catch (Exception e) {\n",
    "      System.out.println(\"Something went wrong.\");\n",
    "    }\n",
    "\n",
    "    }\n",
    "}\"\"\")"
   ]
  },
  {
   "cell_type": "code",
   "execution_count": 23,
   "metadata": {},
   "outputs": [],
   "source": [
    "body=None\n",
    "for _,node in tree.filter(javalang.tree.MethodDeclaration):\n",
    "    body=node"
   ]
  },
  {
   "cell_type": "code",
   "execution_count": 29,
   "metadata": {},
   "outputs": [
    {
     "name": "stdout",
     "output_type": "stream",
     "text": [
      "BinaryOperation(operandl=MemberReference(member=i, postfix_operators=[], prefix_operators=[], qualifier=, selectors=[]), operandr=Literal(postfix_operators=[], prefix_operators=[], qualifier=None, selectors=[], value=12), operator=<)\n",
      "BinaryOperation(operandl=MemberReference(member=j, postfix_operators=[], prefix_operators=[], qualifier=, selectors=[]), operandr=Literal(postfix_operators=[], prefix_operators=[], qualifier=None, selectors=[], value=12), operator=<)\n",
      "BinaryOperation(operandl=MemberReference(member=i, postfix_operators=[], prefix_operators=[], qualifier=, selectors=[]), operandr=Literal(postfix_operators=[], prefix_operators=[], qualifier=None, selectors=[], value=3), operator=>)\n",
      "MemberReference(member=j, postfix_operators=['++'], prefix_operators=[], qualifier=, selectors=[])\n",
      "MemberReference(member=i, postfix_operators=['++'], prefix_operators=[], qualifier=, selectors=[])\n"
     ]
    }
   ],
   "source": [
    "from methodCFG import cfg \n",
    "builder=cfg()\n",
    "G=builder.createCFG(body)#cfg from method\n",
    "for node in G.nodes:\n",
    "    # print(node)\n",
    "    # print(type(node))\n",
    "    if isinstance(node,javalang.tree.Expression):\n",
    "        print(node)"
   ]
  },
  {
   "cell_type": "code",
   "execution_count": 20,
   "metadata": {},
   "outputs": [
    {
     "name": "stdout",
     "output_type": "stream",
     "text": [
      "['expressionl', 'value', 'type']\n",
      "Assignment(expressionl=MemberReference(member=x, postfix_operators=[], prefix_operators=[], qualifier=, selectors=[]), type=+=, value=Literal(postfix_operators=[], prefix_operators=[], qualifier=None, selectors=[], value=10))\n",
      "['expressionl', 'value', 'type']\n",
      "Assignment(expressionl=MemberReference(member=x, postfix_operators=[], prefix_operators=[], qualifier=, selectors=[]), type==, value=MethodInvocation(arguments=[Literal(postfix_operators=[], prefix_operators=[], qualifier=None, selectors=[], value=0)], member=get, postfix_operators=[], prefix_operators=[], qualifier=a, selectors=[], type_arguments=None))\n"
     ]
    }
   ],
   "source": [
    "for _,node in tree:\n",
    "    if isinstance(node,(javalang.tree.Assignment)):\n",
    "        print(node.attrs)\n",
    "        print(node)"
   ]
  },
  {
   "cell_type": "code",
   "execution_count": 6,
   "metadata": {},
   "outputs": [
    {
     "name": "stdout",
     "output_type": "stream",
     "text": [
      "<class 'javalang.tree.StatementExpression'>\n",
      "[LocalVariableDeclaration(annotations=[], declarators=[VariableDeclarator(dimensions=[], initializer=ArrayInitializer(initializers=[Literal(postfix_operators=[], prefix_operators=[], qualifier=None, selectors=[], value=1), Literal(postfix_operators=[], prefix_operators=[], qualifier=None, selectors=[], value=2), Literal(postfix_operators=[], prefix_operators=[], qualifier=None, selectors=[], value=3)]), name=myNumbers)], modifiers=set(), type=BasicType(dimensions=[None], name=int))]\n",
      "<class 'javalang.tree.StatementExpression'>\n",
      "[CatchClauseParameter(annotations=None, modifiers=None, name=e, types=['Exception'])]\n"
     ]
    }
   ],
   "source": [
    "#ending\n",
    "print(\"ending\")\n",
    "for node in G.nodes:\n",
    "    if (G.out_degree(node)==0):\n",
    "        if not isinstance(node,(javalang.tree.BlockStatement,\n",
    "                            javalang.tree.ForStatement,\n",
    "                            javalang.tree.IfStatement,\n",
    "                            javalang.tree.DoStatement,\n",
    "                            javalang.tree.WhileStatement,\n",
    "                            javalang.tree.TryStatement,\n",
    "                            javalang.tree.SwitchStatement)):\n",
    "            print(node)\n",
    "print(\"void return\")\n",
    "for node in G.nodes:\n",
    "    if isinstance(javalang.tree.)"
   ]
  },
  {
   "cell_type": "code",
   "execution_count": 4,
   "metadata": {},
   "outputs": [
    {
     "name": "stdout",
     "output_type": "stream",
     "text": [
      "10\n"
     ]
    }
   ],
   "source": [
    "def inc(a:int,b:float):\n",
    "    a+=1\n",
    "    return a, b\n",
    "a=0\n",
    "b=10\n",
    "for i in range(10):\n",
    "    a,b=inc(a,b)\n",
    "print(a)"
   ]
  },
  {
   "cell_type": "code",
   "execution_count": 8,
   "metadata": {},
   "outputs": [
    {
     "name": "stdout",
     "output_type": "stream",
     "text": [
      "84\n"
     ]
    }
   ],
   "source": [
    "a=[]\n",
    "\n",
    "for _,node in body.filter(javalang.ast.Node):\n",
    "    if not node in a:\n",
    "        a.append(node)\n",
    "print(len(a))"
   ]
  },
  {
   "cell_type": "code",
   "execution_count": 1,
   "metadata": {},
   "outputs": [
    {
     "name": "stdout",
     "output_type": "stream",
     "text": [
      "[2]\n",
      "[]\n"
     ]
    }
   ],
   "source": [
    "import networkx as nx\n",
    "G=nx.DiGraph()\n",
    "G.add_node(1)\n",
    "G.add_node(2)\n",
    "G.add_edge(1,2)\n",
    "\n",
    "G.add_edge(1,2)\n",
    "G.add_node(1)\n",
    "\n",
    "for node in G.nodes:\n",
    "    print(list(G.successors(node)))"
   ]
  },
  {
   "cell_type": "code",
   "execution_count": 15,
   "metadata": {},
   "outputs": [
    {
     "name": "stdout",
     "output_type": "stream",
     "text": [
      "0\n",
      "1\n",
      "2\n",
      "3\n",
      "4\n",
      "5\n",
      "6\n",
      "7\n"
     ]
    }
   ],
   "source": [
    "for i in range(10):\n",
    "    if i>5:\n",
    "        if i>6:\n",
    "            if i>7:\n",
    "                continue\n",
    "    print(i)"
   ]
  },
  {
   "cell_type": "code",
   "execution_count": 7,
   "metadata": {},
   "outputs": [
    {
     "name": "stdout",
     "output_type": "stream",
     "text": [
      "10\n"
     ]
    }
   ],
   "source": [
    "a=10\n",
    "b=a\n",
    "b+=1\n",
    "print(a)"
   ]
  },
  {
   "cell_type": "code",
   "execution_count": 11,
   "metadata": {},
   "outputs": [
    {
     "name": "stdout",
     "output_type": "stream",
     "text": [
      "10\n",
      "10\n"
     ]
    }
   ],
   "source": [
    "import copy\n",
    "class A:\n",
    "    def __init__(self,a) -> None:\n",
    "        self.a=a\n",
    "a=A(10)\n",
    "print(a.a)\n",
    "b=copy.deepcopy(a)\n",
    "b.a+=1\n",
    "print(a.a)\n"
   ]
  },
  {
   "cell_type": "code",
   "execution_count": null,
   "metadata": {},
   "outputs": [],
   "source": []
  }
 ],
 "metadata": {
  "kernelspec": {
   "display_name": "RISE",
   "language": "python",
   "name": "python3"
  },
  "language_info": {
   "codemirror_mode": {
    "name": "ipython",
    "version": 3
   },
   "file_extension": ".py",
   "mimetype": "text/x-python",
   "name": "python",
   "nbconvert_exporter": "python",
   "pygments_lexer": "ipython3",
   "version": "3.11.1"
  },
  "orig_nbformat": 4
 },
 "nbformat": 4,
 "nbformat_minor": 2
}
